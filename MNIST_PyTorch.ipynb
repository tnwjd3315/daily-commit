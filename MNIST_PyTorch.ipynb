{
 "cells": [
  {
   "metadata": {},
   "cell_type": "markdown",
   "source": "# Implementing Convolutional Neural Network (CNN) with MNIST data",
   "id": "3d31a6229913041"
  },
  {
   "metadata": {},
   "cell_type": "markdown",
   "source": [
    "CNN is composed of following components:\n",
    "- CNN: extracts features from an image\n",
    "- Max Pooling: reduces features from an image\n",
    "- Fully Connected Network: uses extracted and reduced features as input to perform downstream tasks."
   ],
   "id": "bd3980a8bd50b6b1"
  },
  {
   "metadata": {},
   "cell_type": "markdown",
   "source": "## 1. Import Library",
   "id": "f913eabc95de2956"
  },
  {
   "metadata": {
    "ExecuteTime": {
     "end_time": "2025-04-16T07:37:38.559966Z",
     "start_time": "2025-04-16T07:37:38.189208Z"
    }
   },
   "cell_type": "code",
   "source": [
    "import torch\n",
    "import torch.nn as nn # 신경망들이 포함됨\n",
    "import torch.optim as optim # 최적화 알고리즘들이 포함됨\n",
    "import torch.nn.init as init # 텐서에 초기값을 줌\n",
    "\n",
    "import torchvision.datasets as datasets # 이미지 데이터셋 집합체\n",
    "import torchvision.transforms as transforms # 이미지 변환 툴\n",
    "\n",
    "from torch.utils.data import DataLoader # 학습 및 배치로 모델에 넣어주기 위한 툴\n",
    "\n",
    "import numpy as np\n",
    "import matplotlib.pyplot as plt"
   ],
   "id": "33d50f5c4940037",
   "outputs": [
    {
     "ename": "ModuleNotFoundError",
     "evalue": "No module named 'torch'",
     "output_type": "error",
     "traceback": [
      "\u001B[31m---------------------------------------------------------------------------\u001B[39m",
      "\u001B[31mModuleNotFoundError\u001B[39m                       Traceback (most recent call last)",
      "\u001B[36mCell\u001B[39m\u001B[36m \u001B[39m\u001B[32mIn[1]\u001B[39m\u001B[32m, line 1\u001B[39m\n\u001B[32m----> \u001B[39m\u001B[32m1\u001B[39m \u001B[38;5;28;01mimport\u001B[39;00m\u001B[38;5;250m \u001B[39m\u001B[34;01mtorch\u001B[39;00m\n\u001B[32m      2\u001B[39m \u001B[38;5;28;01mimport\u001B[39;00m\u001B[38;5;250m \u001B[39m\u001B[34;01mtorch\u001B[39;00m\u001B[34;01m.\u001B[39;00m\u001B[34;01mnn\u001B[39;00m\u001B[38;5;250m \u001B[39m\u001B[38;5;28;01mas\u001B[39;00m\u001B[38;5;250m \u001B[39m\u001B[34;01mnn\u001B[39;00m \u001B[38;5;66;03m# 신경망들이 포함됨\u001B[39;00m\n\u001B[32m      3\u001B[39m \u001B[38;5;28;01mimport\u001B[39;00m\u001B[38;5;250m \u001B[39m\u001B[34;01mtorch\u001B[39;00m\u001B[34;01m.\u001B[39;00m\u001B[34;01moptim\u001B[39;00m\u001B[38;5;250m \u001B[39m\u001B[38;5;28;01mas\u001B[39;00m\u001B[38;5;250m \u001B[39m\u001B[34;01moptim\u001B[39;00m \u001B[38;5;66;03m# 최적화 알고리즘들이 포함됨\u001B[39;00m\n",
      "\u001B[31mModuleNotFoundError\u001B[39m: No module named 'torch'"
     ]
    }
   ],
   "execution_count": 1
  },
  {
   "metadata": {},
   "cell_type": "markdown",
   "source": "## 2. Set Hyperparameter",
   "id": "19507157085189e7"
  },
  {
   "metadata": {},
   "cell_type": "markdown",
   "source": "- batch_size:",
   "id": "7b66ca5211575ecb"
  }
 ],
 "metadata": {
  "kernelspec": {
   "display_name": "Python 3",
   "language": "python",
   "name": "python3"
  },
  "language_info": {
   "codemirror_mode": {
    "name": "ipython",
    "version": 2
   },
   "file_extension": ".py",
   "mimetype": "text/x-python",
   "name": "python",
   "nbconvert_exporter": "python",
   "pygments_lexer": "ipython2",
   "version": "2.7.6"
  }
 },
 "nbformat": 4,
 "nbformat_minor": 5
}
